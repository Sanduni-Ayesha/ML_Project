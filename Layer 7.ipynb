{
  "cells": [
    {
      "cell_type": "markdown",
      "metadata": {},
      "source": [
        "# Import required libraries"
      ]
    },
    {
      "cell_type": "code",
      "execution_count": 3,
      "metadata": {},
      "outputs": [],
      "source": [
        "import pandas as pd\n",
        "import numpy as np\n",
        "from sklearn.preprocessing import RobustScaler\n",
        "from sklearn import metrics\n",
        "from sklearn import svm\n",
        "from sklearn.model_selection import RandomizedSearchCV\n",
        "from sklearn.svm import SVC\n",
        "from sklearn.ensemble import RandomForestClassifier\n",
        "from sklearn.decomposition import PCA\n",
        "from sklearn.model_selection import cross_val_score"
      ]
    },
    {
      "cell_type": "markdown",
      "metadata": {
        "id": "QpYEFTaXEboE"
      },
      "source": [
        "# Read CSV\n",
        "\n",
        "Here the datasets are read from the csv files with the help of pandas library.\n"
      ]
    },
    {
      "cell_type": "code",
      "execution_count": 4,
      "metadata": {
        "id": "-fvKcCnPx-MN"
      },
      "outputs": [],
      "source": [
        "# Specify the file paths\n",
        "train_path = \"train.csv\"\n",
        "valid_path = \"valid.csv\"\n",
        "test_path = \"test.csv\"\n",
        "\n",
        "# Load the CSV files into Pandas DataFrames\n",
        "train = pd.read_csv(train_path)\n",
        "valid = pd.read_csv(valid_path)\n",
        "test = pd.read_csv(test_path)"
      ]
    },
    {
      "cell_type": "markdown",
      "metadata": {
        "id": "K96aP8QCEmPO"
      },
      "source": [
        "Labels and features are separated and assigned to the arrays for easy access."
      ]
    },
    {
      "cell_type": "code",
      "execution_count": 5,
      "metadata": {
        "id": "F8hiE2c3X2gH"
      },
      "outputs": [],
      "source": [
        "labels = ['label_1','label_2','label_3','label_4']\n",
        "columns = train.columns\n",
        "features = [f for f in columns if f not in labels]"
      ]
    },
    {
      "cell_type": "code",
      "execution_count": 6,
      "metadata": {
        "id": "VE1fI9pmvx71"
      },
      "outputs": [],
      "source": [
        "train_df = train.copy()\n",
        "valid_df = valid.copy()\n",
        "test_df = test.copy()"
      ]
    },
    {
      "cell_type": "markdown",
      "metadata": {
        "id": "TZ1yAZLtFEhs"
      },
      "source": [
        "# Scale the data\n",
        "\n",
        "Four dictionaries are used to store the scaled data. Data is stored in it based on the labels. All data is pre-processed with scaling and grouping them together."
      ]
    },
    {
      "cell_type": "code",
      "execution_count": null,
      "metadata": {
        "id": "IF1Cpyw0gUFO"
      },
      "outputs": [],
      "source": [
        "scaler = RobustScaler()\n",
        "\n",
        "x_train = {}\n",
        "y_train = {}\n",
        "x_valid = {}\n",
        "y_valid = {}\n",
        "x_test = {}\n",
        "\n",
        "for label in labels:\n",
        "  train_df_copy = train_df\n",
        "  valid_df_copy = valid_df\n",
        "  if(label==\"label_2\"):\n",
        "    train_df_copy = train_df[train_df[label].notna()]\n",
        "    valid_df_copy = valid_df[valid_df[label].notna()]\n",
        "    train_df.head()\n",
        "  \n",
        "  x_train[label] = pd.DataFrame(scaler.fit_transform(train_df_copy.drop(columns=labels, axis=1)), columns=features)\n",
        "  y_train[label] = train_df_copy[label]\n",
        "  x_valid[label] = pd.DataFrame(scaler.transform(valid_df_copy.drop(columns=labels, axis=1)), columns=features)\n",
        "  y_valid[label] = valid_df_copy[label]\n",
        "\n",
        "  x_test[label] = pd.DataFrame(scaler.transform(test_df.drop(columns=\"ID\", axis=1)), columns=features)"
      ]
    },
    {
      "cell_type": "markdown",
      "metadata": {
        "id": "k3uvHrITwIut"
      },
      "source": [
        "# Check Accuracy\n",
        "\n",
        "After the scaling of the dataset the accuracy is tested for the data without any feature reduction."
      ]
    },
    {
      "cell_type": "code",
      "execution_count": null,
      "metadata": {
        "id": "ZnhJUS0HtxdA"
      },
      "outputs": [],
      "source": [
        "initial_accuracy = {}\n",
        "for label in labels:\n",
        "  clf = svm.SVC(kernel='linear').fit(x_train[label], y_train[label])\n",
        "  y_pred = clf.predict(x_valid[label])\n",
        "  initial_accuracy[label]= metrics.accuracy_score(y_valid[label], y_pred)\n",
        "\n",
        "print(initial_accuracy)"
      ]
    },
    {
      "cell_type": "markdown",
      "metadata": {
        "id": "BdB_FAQZsrsx"
      },
      "source": [
        "# PCA\n",
        "\n",
        "PCA is used to reduce the features by dimensiality reduction"
      ]
    },
    {
      "cell_type": "code",
      "execution_count": 8,
      "metadata": {
        "id": "cx_IPSAos08L"
      },
      "outputs": [],
      "source": [
        "def PCA_dev(label):\n",
        "  threshold = 0.95\n",
        "\n",
        "  pca = PCA( 0.95, svd_solver='full')\n",
        "  pca_train = pca.fit_transform(x_train[label])\n",
        "  pca_valid = pca.transform(x_valid[label])\n",
        "  pca_test = pca.transform(x_test[label])\n",
        "\n",
        "  return pca_train, pca_valid, pca_test"
      ]
    },
    {
      "cell_type": "code",
      "execution_count": 9,
      "metadata": {
        "id": "oblP811j7MWC"
      },
      "outputs": [],
      "source": [
        "pca_train = {}\n",
        "pca_valid = {}\n",
        "pca_test = {}\n",
        "for label in labels:\n",
        "  train, valid, test = PCA_dev(label)\n",
        "  pca_train[label] = train\n",
        "  pca_valid[label] = valid\n",
        "  pca_test[label] = test"
      ]
    },
    {
      "cell_type": "markdown",
      "metadata": {
        "id": "uA3D0MUfovVG"
      },
      "source": [
        "# Check Accuracy again\n",
        "\n",
        "After dimensiality reduction the accuracy is tested again"
      ]
    },
    {
      "cell_type": "code",
      "execution_count": null,
      "metadata": {
        "colab": {
          "base_uri": "https://localhost:8080/"
        },
        "id": "WU6ZOW948N00",
        "outputId": "67927427-b86b-4615-ccbe-9c83fff0bf8f"
      },
      "outputs": [],
      "source": [
        "initial_accuracy = {}\n",
        "for label in labels:\n",
        "  clf = svm.SVC(kernel='linear').fit(pca_train[label], y_train[label])\n",
        "  y_pred = clf.predict(pca_valid[label])\n",
        "  initial_accuracy[label]= metrics.accuracy_score(y_valid[label], y_pred)\n",
        "\n",
        "print(initial_accuracy)"
      ]
    },
    {
      "cell_type": "markdown",
      "metadata": {},
      "source": [
        "# Cross Validation score"
      ]
    },
    {
      "cell_type": "code",
      "execution_count": 8,
      "metadata": {},
      "outputs": [],
      "source": [
        "def cross_validation(model, label):\n",
        "  scores = cross_val_score(model, pca_train[label], y_train[label], cv=5)\n",
        "  print(\"Cross Validation Accuracy: {:.2f}%\".format(scores.mean() * 100))"
      ]
    },
    {
      "cell_type": "markdown",
      "metadata": {},
      "source": [
        "# Hyper Parameter Tuning - Manual    "
      ]
    },
    {
      "cell_type": "code",
      "execution_count": null,
      "metadata": {},
      "outputs": [],
      "source": [
        "initial_accuracy = {}\n",
        "y_predictions={}\n",
        "for label in labels:\n",
        "  clf = svm.SVC(kernel='rbf').fit(pca_train[label], y_train[label])\n",
        "  score = cross_validation(clf,label)\n",
        "  y_pred = clf.predict(pca_valid[label])\n",
        "  y_pred_test = clf.predict(pca_test[label])\n",
        "  y_predictions[label] = y_pred_test\n",
        "  initial_accuracy[label]= metrics.accuracy_score(y_valid[label], y_pred)\n",
        "  print(label,initial_accuracy[label])"
      ]
    },
    {
      "cell_type": "code",
      "execution_count": null,
      "metadata": {},
      "outputs": [],
      "source": [
        "initial_accuracy = {}\n",
        "y_predictions={}\n",
        "for label in labels:\n",
        "  clf = svm.SVC(kernel='rbf', class_weight='balanced', gamma='scale').fit(pca_train[label], y_train[label])\n",
        "  y_pred = clf.predict(pca_valid[label])\n",
        "  y_pred_test = clf.predict(pca_test[label])\n",
        "  y_predictions[label] = y_pred_test\n",
        "  initial_accuracy[label]= metrics.accuracy_score(y_valid[label], y_pred)\n",
        "  print(label,initial_accuracy[label])\n",
        "  output_df = pd.DataFrame()\n",
        "  output_df[label] = y_pred\n",
        "  output_df.to_csv(label+\".csv\", index=False)"
      ]
    },
    {
      "cell_type": "code",
      "execution_count": null,
      "metadata": {},
      "outputs": [],
      "source": [
        "initial_accuracy = {}\n",
        "y_predictions={}\n",
        "for label in labels:\n",
        "  clf = svm.SVC(kernel='poly').fit(pca_train[label], y_train[label])\n",
        "  y_pred = clf.predict(pca_valid[label])\n",
        "  y_pred_test = clf.predict(pca_test[label])\n",
        "  y_predictions[label] = y_pred_test\n",
        "  initial_accuracy[label]= metrics.accuracy_score(y_valid[label], y_pred)\n",
        "  print(label,initial_accuracy[label])"
      ]
    },
    {
      "cell_type": "code",
      "execution_count": null,
      "metadata": {},
      "outputs": [],
      "source": [
        "initial_accuracy = {}\n",
        "y_predictions={}\n",
        "for label in labels:\n",
        "  print(label)\n",
        "  rf_classifier = RandomForestClassifier(n_estimators=500, max_depth=20, random_state=42, class_weight='balanced')\n",
        "  clf = rf_classifier.fit(pca_train[label], y_train[label])\n",
        "  y_pred = clf.predict(pca_valid[label])\n",
        "  y_pred_test = clf.predict(pca_test[label])\n",
        "  y_predictions[label] = y_pred_test\n",
        "  initial_accuracy[label]= metrics.accuracy_score(y_valid[label], y_pred)\n",
        "  print(initial_accuracy[label])\n",
        "\n",
        "print(initial_accuracy)"
      ]
    },
    {
      "cell_type": "markdown",
      "metadata": {
        "id": "wTa5I-1wSgJs"
      },
      "source": [
        "# Hyper-parameter Tuning - Random Grid CV"
      ]
    },
    {
      "cell_type": "markdown",
      "metadata": {},
      "source": [
        "Parameter dictionary with parameters to be used in SVC"
      ]
    },
    {
      "cell_type": "code",
      "execution_count": null,
      "metadata": {
        "id": "rSdDrmEMZZTE"
      },
      "outputs": [],
      "source": [
        "param_dist = {\n",
        "    'C': np.logspace(-3, 3, 7),               # Regularization parameter\n",
        "    'kernel': ['linear', 'poly', 'rbf'],     # Kernel type\n",
        "    'degree': np.arange(1, 6),               # Degree of the polynomial kernel\n",
        "    'gamma': ['scale', 'auto'] + list(np.logspace(-3, 3, 7)),  # Kernel coefficient for 'rbf' and 'poly'\n",
        "}"
      ]
    },
    {
      "cell_type": "code",
      "execution_count": null,
      "metadata": {
        "id": "mqKyKRvkaL2z"
      },
      "outputs": [],
      "source": [
        "svc = SVC()"
      ]
    },
    {
      "cell_type": "markdown",
      "metadata": {
        "id": "UIgqIy7gc3mn"
      },
      "source": [
        "# Label 1"
      ]
    },
    {
      "cell_type": "code",
      "execution_count": null,
      "metadata": {
        "colab": {
          "base_uri": "https://localhost:8080/"
        },
        "id": "e2nGZj_qaNn2",
        "outputId": "34f594b7-79e2-473b-9d27-d86919d1de64"
      },
      "outputs": [],
      "source": [
        "random_search_label_1 = RandomizedSearchCV(\n",
        "    svc, param_distributions=param_dist, n_iter=5, scoring='accuracy', verbose=3, cv=5, random_state=42, n_jobs=-1\n",
        ")\n",
        "\n",
        "# Fit the random search to the data\n",
        "random_search_label_1.fit(pca_train['label_1'], y_train['label_1'])\n",
        "\n",
        "best_model_label_1 = random_search_label_1.best_estimator_\n",
        "y_pred_label_1 = best_model_label_1.predict(pca_test['label_1'])\n",
        "\n",
        "# Print the best hyperparameters and the corresponding accuracy\n",
        "print(\"Best Hyperparameters: \", random_search_label_1.best_params_)\n",
        "print(\"Best Accuracy: {:.2f}%\".format(random_search_label_1.best_score_ * 100))"
      ]
    },
    {
      "cell_type": "code",
      "execution_count": null,
      "metadata": {
        "colab": {
          "base_uri": "https://localhost:8080/"
        },
        "id": "nvosObdRNKcB",
        "outputId": "1e781419-a487-4f23-ed45-e4eab5fd4021"
      },
      "outputs": [],
      "source": [
        "y_pred_val_1 = best_model_label_1.predict(pca_valid['label_1'])\n",
        "\n",
        "print(\"Validation Accuracy: {:.2f}%\".format(metrics.accuracy_score(y_valid['label_1'],y_pred_val_1)* 100))"
      ]
    },
    {
      "cell_type": "markdown",
      "metadata": {
        "id": "gR_TsqLSdIK5"
      },
      "source": [
        "# Label 2"
      ]
    },
    {
      "cell_type": "code",
      "execution_count": null,
      "metadata": {
        "colab": {
          "base_uri": "https://localhost:8080/"
        },
        "id": "Dj3KIppndILD",
        "outputId": "f9e1dbe2-945a-458f-9515-fb9700a90b48"
      },
      "outputs": [],
      "source": [
        "random_search_label_2 = RandomizedSearchCV(\n",
        "    svc, param_distributions=param_dist, n_iter=5, scoring='accuracy', verbose=3, cv=5, random_state=42, n_jobs=-1\n",
        ")\n",
        "\n",
        "# Fit the random search to the data\n",
        "random_search_label_2.fit(pca_train['label_2'], y_train['label_2'])\n",
        "\n",
        "best_model_label_2 = random_search_label_2.best_estimator_\n",
        "y_pred_label_2 = best_model_label_2.predict(pca_test['label_2'])\n",
        "\n",
        "# Print the best hyperparameters and the corresponding accuracy\n",
        "print(\"Best Hyperparameters: \", random_search_label_2.best_params_)\n",
        "print(\"Best Accuracy: {:.2f}%\".format(random_search_label_2.best_score_ * 100))"
      ]
    },
    {
      "cell_type": "code",
      "execution_count": null,
      "metadata": {
        "colab": {
          "base_uri": "https://localhost:8080/"
        },
        "id": "IvEA8dQLS8b3",
        "outputId": "06bda768-6b79-433e-d283-712bb8071640"
      },
      "outputs": [],
      "source": [
        "y_pred_val_2 = best_model_label_2.predict(pca_valid['label_2'])\n",
        "\n",
        "print(\"Validation Accuracy: {:.2f}%\".format(metrics.accuracy_score(y_valid['label_2'],y_pred_val_2)* 100))"
      ]
    },
    {
      "cell_type": "markdown",
      "metadata": {
        "id": "g6vUZzQGdJD_"
      },
      "source": [
        "# Label 3"
      ]
    },
    {
      "cell_type": "code",
      "execution_count": null,
      "metadata": {
        "colab": {
          "base_uri": "https://localhost:8080/"
        },
        "id": "CE_4jX6wdJEA",
        "outputId": "1f610bad-c355-4b6c-c90e-c35835c9101f"
      },
      "outputs": [],
      "source": [
        "random_search_label_3 = RandomizedSearchCV(\n",
        "    svc, param_distributions=param_dist, n_iter=5, scoring='accuracy', verbose=3, cv=5, random_state=42, n_jobs=-1\n",
        ")\n",
        "\n",
        "# Fit the random search to the data\n",
        "random_search_label_3.fit(pca_train['label_3'], y_train['label_3'])\n",
        "\n",
        "best_model_label_3 = random_search_label_3.best_estimator_\n",
        "y_pred_label_3 = best_model_label_3.predict(pca_test['label_3'])\n",
        "\n",
        "# Print the best hyperparameters and the corresponding accuracy\n",
        "print(\"Best Hyperparameters: \", random_search_label_3.best_params_)\n",
        "print(\"Best Accuracy: {:.2f}%\".format(random_search_label_3.best_score_ * 100))"
      ]
    },
    {
      "cell_type": "code",
      "execution_count": null,
      "metadata": {
        "colab": {
          "base_uri": "https://localhost:8080/"
        },
        "id": "q2UkHn4OTFV2",
        "outputId": "ac1ab113-ef36-4d61-c6b4-b655f64aab5d"
      },
      "outputs": [],
      "source": [
        "y_pred_val_3 = best_model_label_3.predict(pca_valid['label_3'])\n",
        "\n",
        "print(\"Validation Accuracy: {:.2f}%\".format(metrics.accuracy_score(y_valid['label_3'],y_pred_val_3)* 100))"
      ]
    },
    {
      "cell_type": "markdown",
      "metadata": {
        "id": "kEOTuy1VdJmw"
      },
      "source": [
        "# Label 4"
      ]
    },
    {
      "cell_type": "code",
      "execution_count": null,
      "metadata": {
        "colab": {
          "base_uri": "https://localhost:8080/"
        },
        "id": "DMdvufk0_sHr",
        "outputId": "c9134034-d4bb-4fb4-ca97-8c9071bf8f4a"
      },
      "outputs": [],
      "source": [
        "random_search_label_4 = RandomizedSearchCV(\n",
        "    svc, param_distributions=param_dist, n_iter=5, scoring='accuracy', verbose=3, cv=5, random_state=42, n_jobs=-1\n",
        ")\n",
        "\n",
        "# Fit the random search to the data\n",
        "random_search_label_4.fit(pca_train['label_4'], y_train['label_4'])\n",
        "\n",
        "best_model_label_4 = random_search_label_4.best_estimator_\n",
        "y_pred_label_4 = best_model_label_4.predict(pca_test['label_4'])\n",
        "\n",
        "# Print the best hyperparameters and the corresponding accuracy\n",
        "print(\"Best Hyperparameters: \", random_search_label_4.best_params_)\n",
        "print(\"Best Accuracy: {:.2f}%\".format(random_search_label_4.best_score_ * 100))"
      ]
    },
    {
      "cell_type": "code",
      "execution_count": null,
      "metadata": {
        "id": "Oj6TNNDKTU6b"
      },
      "outputs": [],
      "source": [
        "y_pred_val_4 = best_model_label_4.predict(pca_valid['label_4'])\n",
        "\n",
        "print(\"Validation Accuracy: {:.2f}%\".format(metrics.accuracy_score(y_valid['label_4'],y_pred_val_4)* 100))"
      ]
    },
    {
      "cell_type": "markdown",
      "metadata": {
        "id": "HBQXZtdno3WP"
      },
      "source": [
        "# Save data to csv output"
      ]
    },
    {
      "cell_type": "code",
      "execution_count": null,
      "metadata": {
        "id": "0iHMuX-V_vAx"
      },
      "outputs": [],
      "source": [
        "output_df = pd.DataFrame()\n",
        "output_df['ID'] = test_df['ID']\n",
        "output_df['label_1'] = y_pred_label_1\n",
        "output_df['label_2'] = y_pred_label_2\n",
        "output_df['label_3'] = y_pred_label_3\n",
        "output_df['label_4'] = y_pred_label_4"
      ]
    },
    {
      "cell_type": "code",
      "execution_count": null,
      "metadata": {
        "id": "b2akyDw4_vzV"
      },
      "outputs": [],
      "source": [
        "output_df.to_csv('Output_layer_7.csv', index=False)"
      ]
    }
  ],
  "metadata": {
    "colab": {
      "collapsed_sections": [
        "uA3D0MUfovVG",
        "OpqU3-rwjIY1"
      ],
      "provenance": []
    },
    "kernelspec": {
      "display_name": "Python 3",
      "name": "python3"
    },
    "language_info": {
      "codemirror_mode": {
        "name": "ipython",
        "version": 3
      },
      "file_extension": ".py",
      "mimetype": "text/x-python",
      "name": "python",
      "nbconvert_exporter": "python",
      "pygments_lexer": "ipython3",
      "version": "3.9.6"
    }
  },
  "nbformat": 4,
  "nbformat_minor": 0
}
